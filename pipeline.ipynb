{
  "nbformat": 4,
  "nbformat_minor": 0,
  "metadata": {
    "colab": {
      "provenance": [],
      "authorship_tag": "ABX9TyPj4z5jgDwBoLHhcKCV56aZ",
      "include_colab_link": true
    },
    "kernelspec": {
      "name": "python3",
      "display_name": "Python 3"
    },
    "language_info": {
      "name": "python"
    }
  },
  "cells": [
    {
      "cell_type": "markdown",
      "metadata": {
        "id": "view-in-github",
        "colab_type": "text"
      },
      "source": [
        "<a href=\"https://colab.research.google.com/github/tahaky/graduation-project/blob/main/pipeline.ipynb\" target=\"_parent\"><img src=\"https://colab.research.google.com/assets/colab-badge.svg\" alt=\"Open In Colab\"/></a>"
      ]
    },
    {
      "cell_type": "markdown",
      "source": [
        "*Imports*"
      ],
      "metadata": {
        "id": "pk7gtcuygA9_"
      }
    },
    {
      "cell_type": "code",
      "execution_count": 24,
      "metadata": {
        "id": "NspNpaw5OB1f"
      },
      "outputs": [],
      "source": [
        "import re\n",
        "import nltk\n",
        "import string\n",
        "import numpy as np\n",
        "import pandas as pd\n",
        "import seaborn as sns\n",
        "import matplotlib.pyplot as plt\n",
        "import matplotlib.pyplot as plt\n",
        "\n",
        "from collections import Counter\n",
        "from nltk.corpus import stopwords\n",
        "from nltk.corpus import wordnet\n",
        "from sklearn.model_selection import train_test_split\n",
        "from sklearn.feature_extraction.text import CountVectorizer\n",
        "from sklearn.feature_extraction.text import TfidfVectorizer\n",
        "from sklearn.metrics import accuracy_score, classification_report\n",
        "from sklearn.naive_bayes import MultinomialNB"
      ]
    },
    {
      "cell_type": "code",
      "source": [
        "nltk.download('punkt')\n",
        "nltk.download('stopwords')\n",
        "nltk.download('wordnet')\n",
        "stop_words = stopwords.words('turkish')"
      ],
      "metadata": {
        "colab": {
          "base_uri": "https://localhost:8080/"
        },
        "id": "1tTo3UDC8UsI",
        "outputId": "8c56c381-9338-4fd5-f924-9930a488d222"
      },
      "execution_count": 2,
      "outputs": [
        {
          "output_type": "stream",
          "name": "stderr",
          "text": [
            "[nltk_data] Downloading package punkt to /root/nltk_data...\n",
            "[nltk_data]   Package punkt is already up-to-date!\n",
            "[nltk_data] Downloading package stopwords to /root/nltk_data...\n",
            "[nltk_data]   Package stopwords is already up-to-date!\n",
            "[nltk_data] Downloading package wordnet to /root/nltk_data...\n",
            "[nltk_data]   Package wordnet is already up-to-date!\n"
          ]
        }
      ]
    },
    {
      "cell_type": "markdown",
      "source": [
        "*Read csv file*"
      ],
      "metadata": {
        "id": "Oo7rARjO7vrn"
      }
    },
    {
      "cell_type": "code",
      "source": [
        "train_df = pd.read_csv('./data-set.csv', on_bad_lines='skip')\n",
        "#Display the first few rows of the dataset\n",
        "print(train_df.head())\n",
        "\n",
        "#Summary statistics\n",
        "print(train_df.describe())\n",
        "\n",
        "#Information about the dataset\n",
        "print(train_df.info())\n",
        "\n",
        "print(train_df.duplicated().sum())\n",
        "\n",
        "good_reviews=train_df[train_df['Durum']==1]['Metin']\n",
        "bad_reviews=train_df[train_df['Durum']==2]['Metin']\n",
        "notr_reviews=train_df[train_df['Durum']==0]['Metin']\n",
        "\n",
        "print(\"First 10 samples of good reviews\\n\".format(),good_reviews[:10])\n",
        "print(\"First 10 samples of bad reviews\\n\".format(),bad_reviews[:10])\n",
        "print(\"First 10 samples of notr reviews\\n\".format(),notr_reviews[:10])\n",
        "\n",
        "\n"
      ],
      "metadata": {
        "collapsed": true,
        "id": "AYEIBQRzf5g-",
        "colab": {
          "base_uri": "https://localhost:8080/"
        },
        "outputId": "404c4105-9997-48a4-fda8-75c05b229d1a"
      },
      "execution_count": 3,
      "outputs": [
        {
          "output_type": "stream",
          "name": "stdout",
          "text": [
            "                                               Metin  Durum\n",
            "0                              evet anlatıldığı gibi      1\n",
            "1  Daha öncede almıştım bu cihazdan ense ve sakal...      1\n",
            "2  Ürün gayet başarılı sakal kesmede başlık sayıs...      1\n",
            "3  Daha öncede aynısını almıştım çok güzel ve kal...      1\n",
            "4  Erkek kuaförüyüm ense ve sıfır sakal traşı içi...      1\n",
            "              Durum\n",
            "count  13725.000000\n",
            "mean       0.626011\n",
            "std        0.640908\n",
            "min        0.000000\n",
            "25%        0.000000\n",
            "50%        1.000000\n",
            "75%        1.000000\n",
            "max        2.000000\n",
            "<class 'pandas.core.frame.DataFrame'>\n",
            "RangeIndex: 13725 entries, 0 to 13724\n",
            "Data columns (total 2 columns):\n",
            " #   Column  Non-Null Count  Dtype \n",
            "---  ------  --------------  ----- \n",
            " 0   Metin   13725 non-null  object\n",
            " 1   Durum   13725 non-null  int64 \n",
            "dtypes: int64(1), object(1)\n",
            "memory usage: 214.6+ KB\n",
            "None\n",
            "1485\n",
            "First 10 samples of good reviews\n",
            " 0                                 evet anlatıldığı gibi\n",
            "1     Daha öncede almıştım bu cihazdan ense ve sakal...\n",
            "2     Ürün gayet başarılı sakal kesmede başlık sayıs...\n",
            "3     Daha öncede aynısını almıştım çok güzel ve kal...\n",
            "4     Erkek kuaförüyüm ense ve sıfır sakal traşı içi...\n",
            "5                              ürün gerçekten çok güzel\n",
            "6     Ürün beklediğimden güzel çıktı gayet kullanışl...\n",
            "7                           güzel makina tavsiye ederim\n",
            "8             tavsiye edebileceğim çok güzel bir makina\n",
            "10        denedim ürün çok güzel herkese tavsiye ederim\n",
            "Name: Metin, dtype: object\n",
            "First 10 samples of bad reviews\n",
            " 15                               Ürün çalışıyor şimdilik\n",
            "33     Makine gayet iyi memnun kaldım fakat şarj unit...\n",
            "56           ürünü henüz kullanmadım deneyince göreceğiz\n",
            "65     Beğendim ama daha uzun kesebilen tarak seçenek...\n",
            "68     ürün güzel fiyatı da uygun fakat garanti belge...\n",
            "74     powertec bildiğim ve kullandığım marka bu sefe...\n",
            "85     ürünü beğendim. 3 taraklı çok kaba olmayan bir...\n",
            "92        Ürün bi moser değil ama fiyata göre fena değil\n",
            "99     iki günde elime ulaştı teşekkür ederim.. kulla...\n",
            "101                                       İdare eder... \n",
            "Name: Metin, dtype: object\n",
            "First 10 samples of notr reviews\n",
            " 9     Ürün sadece aldığım gün güzel bir şekilde kest...\n",
            "12                              Ürün hala elime geçmedi\n",
            "25    urun gelmiyor 10 gundur bekliyoz magaza iletis...\n",
            "40             hasarlı gelgi geri yolladım kullanmadık \n",
            "41    Ürün paketsiz şekilde geldi evime gelmedi kend...\n",
            "53    ürün çok şık fakat içi boş bir ürün. biraz dah...\n",
            "54                            Ürün gelmedi ki beğenelim\n",
            "82    üründeki 3mm tarağı bildiğimiz 3 numaralı traş...\n",
            "88                                     Hayır beğenmedim\n",
            "90    n11.com üyesi 01.10.2020 Bozuk ve dezenforme o...\n",
            "Name: Metin, dtype: object\n"
          ]
        }
      ]
    },
    {
      "cell_type": "code",
      "source": [
        "#Count of good and bad reviews\n",
        "count=train_df['Metin'].value_counts()\n",
        "print('Total Counts of both sets'.format(),count)\n",
        "\n",
        "print(\"==============\")\n",
        "#Creating a function to plot the counts using matplotlib\n",
        "def plot_counts(count_good,count_bad,sl_name,sr_name):\n",
        "    plt.rcParams['figure.figsize']=(6,6)\n",
        "    plt.bar(0,count_good,width=0.6,label=sl_name,color='Green')\n",
        "    plt.legend()\n",
        "    plt.bar(2,count_bad,width=0.6,label=sr_name,color='Red')\n",
        "    plt.legend()\n",
        "    plt.ylabel('Count of Reviews')\n",
        "    plt.xlabel('Types of Reviews')\n",
        "    plt.show()\n",
        "\n",
        "count_good=train_df[train_df['Durum']==1]\n",
        "count_bad=train_df[train_df['Durum']==0]\n",
        "count_notr=train_df[train_df['Durum']==2]\n",
        "\n",
        "plot_counts(len(count_good),len(count_bad),\"Good\",\"Bad\")\n",
        "plot_counts(len(count_good),len(count_notr),\"Good\",\"Notr\")\n",
        "plot_counts(len(count_notr),len(count_bad),\"Notr\",\"Bad\")\n"
      ],
      "metadata": {
        "colab": {
          "base_uri": "https://localhost:8080/",
          "height": 1000
        },
        "id": "F0zEhmPH8v1M",
        "outputId": "2b3fd2d8-3237-4f62-d86d-256199c8e21c"
      },
      "execution_count": 4,
      "outputs": [
        {
          "output_type": "stream",
          "name": "stdout",
          "text": [
            "Total Counts of both sets Metin\n",
            "Güzel bir ürün                                                                                                                                   18\n",
            "idare eder                                                                                                                                       17\n",
            "İdare eder                                                                                                                                       16\n",
            "Gayet güzel                                                                                                                                      15\n",
            "Güzel ürün                                                                                                                                       14\n",
            "                                                                                                                                                 ..\n",
            "F/p ürünü fena değil                                                                                                                              1\n",
            "7yaşındaki kızım için aldık bizde kullanıyoruz.Ürün göründüğü gibi gayet güzel kurulumu kolay teşekkürler                                         1\n",
            "mukembel çokguzel                                                                                                                                 1\n",
            "çok kalitesiz. heryeri sallanıyor vidaları hep düşünüyor. suntası ufalanıyor. satıcı sorulara cevap vermiyor. Remaks tam bir hayal kırıklığı.     1\n",
            "Kumanda çok kalitesiz verdiğiniz paraya değmez                                                                                                    1\n",
            "Name: count, Length: 12194, dtype: int64\n",
            "==============\n"
          ]
        },
        {
          "output_type": "display_data",
          "data": {
            "text/plain": [
              "<Figure size 600x600 with 1 Axes>"
            ],
            "image/png": "[encoded data removed]"
          },
          "metadata": {}
        },
        {
          "output_type": "display_data",
          "data": {
            "text/plain": [
              "<Figure size 600x600 with 1 Axes>"
            ],
            "image/png": "[encoded data removed]"
          },
          "metadata": {}
        },
        {
          "output_type": "display_data",
          "data": {
            "text/plain": [
              "<Figure size 600x600 with 1 Axes>"
            ],
            "image/png": "[encoded data removed]"
          },
          "metadata": {}
        }
      ]
    },
    {
      "cell_type": "code",
      "source": [
        "stop_words = set(stopwords.words('turkish'))\n",
        "\n",
        "def clean_text(text):\n",
        "    # Küçük harfe çevirme\n",
        "    text = text.lower()\n",
        "    # Noktalama işaretlerini kaldırma\n",
        "    text = text.translate(str.maketrans('', '', string.punctuation))\n",
        "    # Sayıları kaldırma\n",
        "    text = re.sub(r'\\d+', '', text)\n",
        "    # Stopwords (durma kelimeleri) kaldırma\n",
        "    text = ' '.join([word for word in text.split() if word not in stop_words])\n",
        "    return text\n",
        "print(train_df['Metin'].head())\n",
        "\n",
        "train_df['Temizlenmiş Metin'] = train_df['Metin'].apply(clean_text)\n",
        "\n",
        "print(train_df['Temizlenmiş Metin'].head())\n",
        "\n",
        "\n"
      ],
      "metadata": {
        "id": "rR7goXxI8mLH",
        "colab": {
          "base_uri": "https://localhost:8080/"
        },
        "outputId": "7ad7002a-f325-4f23-f35d-b7943080d8b6"
      },
      "execution_count": 28,
      "outputs": [
        {
          "output_type": "stream",
          "name": "stdout",
          "text": [
            "0                                evet anlatıldığı gibi\n",
            "1    Daha öncede almıştım bu cihazdan ense ve sakal...\n",
            "2    Ürün gayet başarılı sakal kesmede başlık sayıs...\n",
            "3    Daha öncede aynısını almıştım çok güzel ve kal...\n",
            "4    Erkek kuaförüyüm ense ve sıfır sakal traşı içi...\n",
            "Name: Metin, dtype: object\n",
            "0                                     evet anlatıldığı\n",
            "1    öncede almıştım cihazdan ense sakal tüketmek o...\n",
            "2    ürün gayet başarılı sakal kesmede başlık sayıs...\n",
            "3     öncede aynısını almıştım güzel kaliteli bir ürün\n",
            "4    erkek kuaförüyüm ense sıfır sakal traşı uygun ...\n",
            "Name: Temizlenmiş Metin, dtype: object\n"
          ]
        }
      ]
    },
    {
      "cell_type": "code",
      "source": [
        "from sklearn.metrics import classification_report, accuracy_score\n",
        "\n",
        "# Spliting into X & y\n",
        "X = train_df['Temizlenmiş Metin']\n",
        "y = train_df['Durum']\n",
        "print(y)\n",
        "\n",
        "td = TfidfVectorizer(max_features = 4500)\n",
        "X = td.fit_transform(X).toarray()\n",
        "\n",
        "X_train, X_test, y_train, y_test = train_test_split(X, y, test_size = 0.3, random_state = 0)\n",
        "classifier = MultinomialNB()\n",
        "classifier.fit(X_train, y_train)\n",
        "\n",
        "y_pred = classifier.predict(X_test)\n",
        "\n",
        "# Classification metrics\n",
        "report = classification_report(y_test, y_pred)  # Change variable name here\n",
        "\n",
        "print('\\n Accuracy: ', accuracy_score(y_test, y_pred))\n",
        "print('\\nClassification Report')\n",
        "print('======================================================')\n",
        "print(report)  # Use the changed variable here\n"
      ],
      "metadata": {
        "colab": {
          "base_uri": "https://localhost:8080/"
        },
        "id": "sdFdsekzsfPr",
        "outputId": "df27fea8-fe24-4c64-aa6f-60b7de245226"
      },
      "execution_count": 31,
      "outputs": [
        {
          "output_type": "stream",
          "name": "stdout",
          "text": [
            "0        1\n",
            "1        1\n",
            "2        1\n",
            "3        1\n",
            "4        1\n",
            "        ..\n",
            "13720    0\n",
            "13721    0\n",
            "13722    0\n",
            "13723    0\n",
            "13724    0\n",
            "Name: Durum, Length: 13725, dtype: int64\n",
            "\n",
            " Accuracy:  0.8754249635745508\n",
            "\n",
            "Classification Report\n",
            "======================================================\n",
            "              precision    recall  f1-score   support\n",
            "\n",
            "           0       0.91      0.93      0.92      1951\n",
            "           1       0.85      0.96      0.90      1803\n",
            "           2       0.83      0.16      0.28       364\n",
            "\n",
            "    accuracy                           0.88      4118\n",
            "   macro avg       0.86      0.68      0.70      4118\n",
            "weighted avg       0.87      0.88      0.85      4118\n",
            "\n"
          ]
        }
      ]
    },
    {
      "cell_type": "code",
      "source": [
        "import joblib\n",
        "\n",
        "# Modeli eğittikten sonra kaydediyoruz\n",
        "joblib.dump(classifier, 'naive_bayes_model.pkl')\n",
        "\n",
        "# TF-IDF vektörizer'ı da kaydedin\n",
        "joblib.dump(td, 'tfidf_vectorizer.pkl')\n"
      ],
      "metadata": {
        "colab": {
          "base_uri": "https://localhost:8080/"
        },
        "id": "_2rYw8CsELqX",
        "outputId": "adc6cb77-e2b5-49fa-d85b-45b38898fd19"
      },
      "execution_count": 32,
      "outputs": [
        {
          "output_type": "execute_result",
          "data": {
            "text/plain": [
              "['tfidf_vectorizer.pkl']"
            ]
          },
          "metadata": {},
          "execution_count": 32
        }
      ]
    }
  ]
}